{
 "cells": [
  {
   "cell_type": "code",
   "execution_count": 1,
   "id": "75be51b1",
   "metadata": {
    "_kg_hide-input": true,
    "_kg_hide-output": true,
    "execution": {
     "iopub.execute_input": "2022-06-19T01:46:41.116781Z",
     "iopub.status.busy": "2022-06-19T01:46:41.116048Z",
     "iopub.status.idle": "2022-06-19T01:46:41.156909Z",
     "shell.execute_reply": "2022-06-19T01:46:41.156146Z",
     "shell.execute_reply.started": "2022-06-19T01:46:41.116701Z"
    }
   },
   "outputs": [],
   "source": [
    "# install fastkaggle if not available\n",
    "try: import fastkaggle\n",
    "except ModuleNotFoundError:\n",
    "    !pip install -Uq fastkaggle\n",
    "\n",
    "from fastkaggle import *"
   ]
  },
  {
   "cell_type": "markdown",
   "id": "32f0d363",
   "metadata": {},
   "source": [
    "This is part 2 of the [Road to the Top](https://www.kaggle.com/code/jhoward/first-steps-road-to-the-top-part-1) series, in which I show the process I used to tackle the [Paddy Doctor](https://www.kaggle.com/competitions/paddy-disease-classification) competition, leading to four 1st place submissions. If you haven't already, first check out [part 1](https://www.kaggle.com/code/jhoward/first-steps-road-to-the-top-part-1)."
   ]
  },
  {
   "cell_type": "markdown",
   "id": "ad80d057",
   "metadata": {},
   "source": [
    "## Going faster"
   ]
  },
  {
   "cell_type": "markdown",
   "id": "7cfbdb0d",
   "metadata": {},
   "source": [
    "First we'll repeat the steps we used last time to access the data and ensure all the latest libraries are installed:"
   ]
  },
  {
   "cell_type": "code",
   "execution_count": 2,
   "id": "5557a76e",
   "metadata": {
    "_kg_hide-input": true,
    "_kg_hide-output": true,
    "execution": {
     "iopub.execute_input": "2022-06-19T01:46:41.170305Z",
     "iopub.status.busy": "2022-06-19T01:46:41.168094Z",
     "iopub.status.idle": "2022-06-19T01:47:01.147700Z",
     "shell.execute_reply": "2022-06-19T01:47:01.146587Z",
     "shell.execute_reply.started": "2022-06-19T01:46:41.170255Z"
    }
   },
   "outputs": [],
   "source": [
    "comp = 'paddy-disease-classification'\n",
    "path = setup_comp(comp, install='fastai \"timm>=0.6.2.dev0\"')\n",
    "from fastai.vision.all import *\n",
    "set_seed(42)"
   ]
  },
  {
   "cell_type": "markdown",
   "id": "a5167fea",
   "metadata": {},
   "source": [
    "A big issue I noticed last time was that originally I created the notebook on my home PC, and each epoch of the resnet we created took under 20 seconds to run. But on Kaggle they took over 3 minutes each! Whilst Kaggle's GPUs are less powerful than what I've got at home, that doesn't come close to explaining this vast difference in speed.\n",
    "\n",
    "I noticed when Kaggle was running that the \"GPU\" indicator in the top right was nearly empty, and the \"CPU\" one was always full. This strongly suggests that the problem was that Kaggle's notebook was CPU bound by decoding and resizing the images. This is a common problem on machines with poor CPU performance -- and indeed Kaggle only provides 2 virtual CPUs at the time of writing.\n",
    "\n",
    "We really need to fix this, since we need to be able to iterate much more quickly. What we can do is to simply resize all the images to half their height and width -- which reduces their number of pixels 4x. This should mean an around 4x increase in performance for training small models.\n",
    "\n",
    "Luckily, fastai has a function which does exactly this, whilst maintaining the folder structure of the data: `resize_images`."
   ]
  },
  {
   "cell_type": "code",
   "execution_count": 7,
   "id": "d3d9cab9",
   "metadata": {
    "execution": {
     "iopub.execute_input": "2022-06-19T01:47:53.063075Z",
     "iopub.status.busy": "2022-06-19T01:47:53.062411Z",
     "iopub.status.idle": "2022-06-19T01:47:53.072186Z",
     "shell.execute_reply": "2022-06-19T01:47:53.071065Z",
     "shell.execute_reply.started": "2022-06-19T01:47:53.063027Z"
    }
   },
   "outputs": [],
   "source": [
    "trn_path = Path('sml')"
   ]
  },
  {
   "cell_type": "code",
   "execution_count": 8,
   "id": "fd776ce8",
   "metadata": {
    "execution": {
     "iopub.execute_input": "2022-06-19T01:47:53.460123Z",
     "iopub.status.busy": "2022-06-19T01:47:53.459218Z",
     "iopub.status.idle": "2022-06-19T01:51:16.064755Z",
     "shell.execute_reply": "2022-06-19T01:51:16.063614Z",
     "shell.execute_reply.started": "2022-06-19T01:47:53.460072Z"
    }
   },
   "outputs": [],
   "source": [
    "resize_images(path/'train_images', dest=trn_path, max_size=256, recurse=True)"
   ]
  },
  {
   "cell_type": "markdown",
   "id": "206332c5",
   "metadata": {
    "execution": {
     "iopub.execute_input": "2022-06-19T01:51:16.072263Z",
     "iopub.status.busy": "2022-06-19T01:51:16.070053Z",
     "iopub.status.idle": "2022-06-19T01:52:00.813437Z",
     "shell.execute_reply": "2022-06-19T01:52:00.812520Z",
     "shell.execute_reply.started": "2022-06-19T01:51:16.072224Z"
    }
   },
   "source": [
    "This will give us 192x256px images. Let's take a look:"
   ]
  },
  {
   "cell_type": "code",
   "execution_count": 11,
   "id": "e64f802b",
   "metadata": {
    "execution": {
     "iopub.execute_input": "2022-06-19T01:55:22.726037Z",
     "iopub.status.busy": "2022-06-19T01:55:22.725541Z",
     "iopub.status.idle": "2022-06-19T01:55:24.983239Z",
     "shell.execute_reply": "2022-06-19T01:55:24.982417Z",
     "shell.execute_reply.started": "2022-06-19T01:55:22.725995Z"
    }
   },
   "outputs": [],
   "source": [
    "dls = ImageDataLoaders.from_folder(trn_path, valid_pct=0.2, seed=42,\n",
    "    item_tfms=Resize((256,192)))\n",
    "\n",
    "dls.show_batch(max_n=3)"
   ]
  },
  {
   "cell_type": "markdown",
   "id": "1358856b",
   "metadata": {},
   "source": [
    "In this notebook, we'll be experimenting with a few different architectures and image processing approaches (item and batch transforms). In order to make this easier, we'll put our modeling steps together into a little function which we can pass the architecture, item transforms, and batch transforms to:"
   ]
  },
  {
   "cell_type": "code",
   "execution_count": 13,
   "id": "1b4e9915",
   "metadata": {
    "execution": {
     "iopub.execute_input": "2022-06-19T02:00:31.546397Z",
     "iopub.status.busy": "2022-06-19T02:00:31.543926Z",
     "iopub.status.idle": "2022-06-19T02:00:31.554857Z",
     "shell.execute_reply": "2022-06-19T02:00:31.553757Z",
     "shell.execute_reply.started": "2022-06-19T02:00:31.546337Z"
    }
   },
   "outputs": [],
   "source": [
    "def train(arch, item, batch, epochs=5):\n",
    "    dls = ImageDataLoaders.from_folder(trn_path, seed=42, valid_pct=0.2, item_tfms=item, batch_tfms=batch)\n",
    "    learn = vision_learner(dls, arch, metrics=error_rate).to_fp16()\n",
    "    learn.fine_tune(epochs, 0.01)\n",
    "    return learn"
   ]
  },
  {
   "cell_type": "markdown",
   "id": "11fa0586",
   "metadata": {},
   "source": [
    "Our `item_tfms` already resize our images to small sizes, so this shouldn't impact the accuracy of our models much, if at all. Let's re-run our resnet26d to test."
   ]
  },
  {
   "cell_type": "code",
   "execution_count": 12,
   "id": "8a628c8e",
   "metadata": {
    "execution": {
     "iopub.execute_input": "2022-06-19T01:55:24.989726Z",
     "iopub.status.busy": "2022-06-19T01:55:24.987588Z",
     "iopub.status.idle": "2022-06-19T02:00:31.539166Z",
     "shell.execute_reply": "2022-06-19T02:00:31.538177Z",
     "shell.execute_reply.started": "2022-06-19T01:55:24.989685Z"
    }
   },
   "outputs": [],
   "source": [
    "learn = train('resnet26d', item=Resize(192),\n",
    "              batch=aug_transforms(size=128, min_scale=0.75))"
   ]
  },
  {
   "cell_type": "markdown",
   "id": "d011f0b0",
   "metadata": {},
   "source": [
    "That's a big improvement in speed, and the accuracy looks fine."
   ]
  },
  {
   "cell_type": "markdown",
   "id": "538ba512",
   "metadata": {},
   "source": [
    "## A ConvNeXt model"
   ]
  },
  {
   "cell_type": "markdown",
   "id": "4e2bd61c",
   "metadata": {},
   "source": [
    "I noticed that the GPU usage bar in Kaggle was still nearly empty, so we're still CPU bound. That means we should be able to use a more capable model with little if any speed impact. Let's look again at the options in [The best vision models for fine-tuning](https://www.kaggle.com/code/jhoward/the-best-vision-models-for-fine-tuning). `convnext_small` tops the performance/accuracy tradeoff score there, so let's give it a go!"
   ]
  },
  {
   "cell_type": "code",
   "execution_count": 14,
   "id": "a9978175",
   "metadata": {
    "execution": {
     "iopub.execute_input": "2022-06-19T02:00:31.563594Z",
     "iopub.status.busy": "2022-06-19T02:00:31.560836Z",
     "iopub.status.idle": "2022-06-19T02:00:31.569149Z",
     "shell.execute_reply": "2022-06-19T02:00:31.568200Z",
     "shell.execute_reply.started": "2022-06-19T02:00:31.563556Z"
    }
   },
   "outputs": [],
   "source": [
    "arch = 'convnext_small_in22k'"
   ]
  },
  {
   "cell_type": "code",
   "execution_count": 15,
   "id": "3caa4f06",
   "metadata": {
    "execution": {
     "iopub.execute_input": "2022-06-19T02:00:31.576959Z",
     "iopub.status.busy": "2022-06-19T02:00:31.574705Z",
     "iopub.status.idle": "2022-06-19T02:07:24.787333Z",
     "shell.execute_reply": "2022-06-19T02:07:24.785879Z",
     "shell.execute_reply.started": "2022-06-19T02:00:31.576922Z"
    }
   },
   "outputs": [],
   "source": [
    "learn = train(arch, item=Resize(192, method='squish'),\n",
    "              batch=aug_transforms(size=128, min_scale=0.75))"
   ]
  },
  {
   "cell_type": "markdown",
   "id": "f7f2dd51",
   "metadata": {},
   "source": [
    "Wow our error rate has halved! That's a great result. And, as expected, the speed hasn't gone up much at all. This seems like a great model for iterating on."
   ]
  },
  {
   "cell_type": "markdown",
   "id": "d640fecf",
   "metadata": {},
   "source": [
    "## Preprocessing experiments"
   ]
  },
  {
   "cell_type": "markdown",
   "id": "828f2a7b",
   "metadata": {},
   "source": [
    "So, what shall we try first? One thing which can make a difference is whether we \"squish\" a rectangular image into a square shape by changing it's aspect ratio, or randomly crop out a square from it, or whether we add black padding to the edges to make it a square. In the previous version we \"squished\". Let's try \"crop\" instead, which is fastai's default:"
   ]
  },
  {
   "cell_type": "code",
   "execution_count": 17,
   "id": "7c9d172c",
   "metadata": {
    "execution": {
     "iopub.execute_input": "2022-06-19T02:07:26.925498Z",
     "iopub.status.busy": "2022-06-19T02:07:26.923683Z",
     "iopub.status.idle": "2022-06-19T02:13:52.222834Z",
     "shell.execute_reply": "2022-06-19T02:13:52.221839Z",
     "shell.execute_reply.started": "2022-06-19T02:07:26.925456Z"
    }
   },
   "outputs": [],
   "source": [
    "learn = train(arch, item=Resize(192),\n",
    "              batch=aug_transforms(size=128, min_scale=0.75))"
   ]
  },
  {
   "cell_type": "markdown",
   "id": "7149bcf8",
   "metadata": {},
   "source": [
    "That doesn't seem to have made much difference...\n",
    "\n",
    "We can also try padding, which keeps all the original image without transforming it -- here's what that looks like:"
   ]
  },
  {
   "cell_type": "code",
   "execution_count": 16,
   "id": "9478a751",
   "metadata": {
    "execution": {
     "iopub.execute_input": "2022-06-19T02:07:24.793939Z",
     "iopub.status.busy": "2022-06-19T02:07:24.791446Z",
     "iopub.status.idle": "2022-06-19T02:07:26.920869Z",
     "shell.execute_reply": "2022-06-19T02:07:26.919886Z",
     "shell.execute_reply.started": "2022-06-19T02:07:24.793894Z"
    }
   },
   "outputs": [],
   "source": [
    "dls = ImageDataLoaders.from_folder(trn_path, valid_pct=0.2, seed=42,\n",
    "    item_tfms=Resize(192, method=ResizeMethod.Pad, pad_mode=PadMode.Zeros))\n",
    "dls.show_batch(max_n=3)"
   ]
  },
  {
   "cell_type": "code",
   "execution_count": 18,
   "id": "11388ce4",
   "metadata": {
    "execution": {
     "iopub.execute_input": "2022-06-19T02:13:52.229427Z",
     "iopub.status.busy": "2022-06-19T02:13:52.227191Z",
     "iopub.status.idle": "2022-06-19T02:20:47.171344Z",
     "shell.execute_reply": "2022-06-19T02:20:47.170346Z",
     "shell.execute_reply.started": "2022-06-19T02:13:52.229383Z"
    }
   },
   "outputs": [],
   "source": [
    "learn = train(arch, item=Resize((256,192), method=ResizeMethod.Pad, pad_mode=PadMode.Zeros),\n",
    "      batch=aug_transforms(size=(171,128), min_scale=0.75))"
   ]
  },
  {
   "cell_type": "markdown",
   "id": "0fa12431",
   "metadata": {},
   "source": [
    "That's looking like a pretty good improvement."
   ]
  },
  {
   "cell_type": "markdown",
   "id": "8f68f0a3",
   "metadata": {},
   "source": [
    "## Test time augmentation"
   ]
  },
  {
   "cell_type": "markdown",
   "id": "1c13eb4a",
   "metadata": {},
   "source": [
    "To make the predictions even better, we can try [test time augmentation](https://nbviewer.org/github/fastai/fastbook/blob/master/07_sizing_and_tta.ipynb#Test-Time-Augmentation) (TTA), which [our book](https://www.amazon.com/Deep-Learning-Coders-fastai-PyTorch/dp/1492045527) defines as:\n",
    "\n",
    "> *During inference or validation, creating multiple versions of each image, using data augmentation, and then taking the average or maximum of the predictions for each augmented version of the image.*\n",
    "\n",
    "Before trying that out, we'll first see how to check the predictions and error rate of our model without TTA:"
   ]
  },
  {
   "cell_type": "code",
   "execution_count": 19,
   "id": "f6e9c5cb",
   "metadata": {
    "execution": {
     "iopub.execute_input": "2022-06-19T02:20:47.178706Z",
     "iopub.status.busy": "2022-06-19T02:20:47.176285Z",
     "iopub.status.idle": "2022-06-19T02:20:55.708986Z",
     "shell.execute_reply": "2022-06-19T02:20:55.708055Z",
     "shell.execute_reply.started": "2022-06-19T02:20:47.178662Z"
    }
   },
   "outputs": [],
   "source": [
    "valid = learn.dls.valid\n",
    "preds,targs = learn.get_preds(dl=valid)"
   ]
  },
  {
   "cell_type": "code",
   "execution_count": 20,
   "id": "e7cf8953",
   "metadata": {
    "execution": {
     "iopub.execute_input": "2022-06-19T02:20:55.716631Z",
     "iopub.status.busy": "2022-06-19T02:20:55.714991Z",
     "iopub.status.idle": "2022-06-19T02:20:55.731723Z",
     "shell.execute_reply": "2022-06-19T02:20:55.730441Z",
     "shell.execute_reply.started": "2022-06-19T02:20:55.716587Z"
    }
   },
   "outputs": [],
   "source": [
    "error_rate(preds, targs)"
   ]
  },
  {
   "cell_type": "markdown",
   "id": "8d426344",
   "metadata": {},
   "source": [
    "That's the same error rate we saw at the end of training, above, so we know that we're doing that correctly.\n",
    "\n",
    "Here's what our data augmentation is doing -- if you look carefully, you can see that each image is a bit lighter or darker, sometimes flipped, zoomed, rotated, warped, and/or zoomed:"
   ]
  },
  {
   "cell_type": "code",
   "execution_count": 21,
   "id": "83edb04c",
   "metadata": {
    "execution": {
     "iopub.execute_input": "2022-06-19T02:20:55.738021Z",
     "iopub.status.busy": "2022-06-19T02:20:55.735723Z",
     "iopub.status.idle": "2022-06-19T02:20:56.558307Z",
     "shell.execute_reply": "2022-06-19T02:20:56.557489Z",
     "shell.execute_reply.started": "2022-06-19T02:20:55.737985Z"
    }
   },
   "outputs": [],
   "source": [
    "learn.dls.train.show_batch(max_n=6, unique=True)"
   ]
  },
  {
   "cell_type": "markdown",
   "id": "6fe8ca5b",
   "metadata": {},
   "source": [
    "If we call `tta()` then we'll get the average of predictions made for multiple different augmented versions of each image, along with the unaugmented original:"
   ]
  },
  {
   "cell_type": "code",
   "execution_count": 22,
   "id": "2a0ffc75",
   "metadata": {
    "execution": {
     "iopub.execute_input": "2022-06-19T02:20:56.560440Z",
     "iopub.status.busy": "2022-06-19T02:20:56.559847Z",
     "iopub.status.idle": "2022-06-19T02:21:41.291898Z",
     "shell.execute_reply": "2022-06-19T02:21:41.290926Z",
     "shell.execute_reply.started": "2022-06-19T02:20:56.560399Z"
    },
    "scrolled": true
   },
   "outputs": [],
   "source": [
    "tta_preds,_ = learn.tta(dl=valid)"
   ]
  },
  {
   "cell_type": "markdown",
   "id": "9edadf20",
   "metadata": {},
   "source": [
    "Let's check the error rate of this:"
   ]
  },
  {
   "cell_type": "code",
   "execution_count": 23,
   "id": "1cf6a100",
   "metadata": {
    "execution": {
     "iopub.execute_input": "2022-06-19T02:21:41.298881Z",
     "iopub.status.busy": "2022-06-19T02:21:41.296301Z",
     "iopub.status.idle": "2022-06-19T02:21:41.312624Z",
     "shell.execute_reply": "2022-06-19T02:21:41.311512Z",
     "shell.execute_reply.started": "2022-06-19T02:21:41.298838Z"
    }
   },
   "outputs": [],
   "source": [
    "error_rate(tta_preds, targs)"
   ]
  },
  {
   "cell_type": "markdown",
   "id": "923f0e01",
   "metadata": {},
   "source": [
    "That's a huge improvement! We'll definitely want to use this for any submission we make!"
   ]
  },
  {
   "cell_type": "markdown",
   "id": "5d549e92",
   "metadata": {},
   "source": [
    "## Scaling up"
   ]
  },
  {
   "cell_type": "markdown",
   "id": "561b4c9d",
   "metadata": {},
   "source": [
    "Now that we've got a pretty good model and preprocessing approach, let's scale it up to larger images and more epochs. We'll switch back our path to the original un-resized images, and use 12 epochs using our best settings so far, with larger final augmented images:"
   ]
  },
  {
   "cell_type": "code",
   "execution_count": 24,
   "id": "060538b8",
   "metadata": {
    "execution": {
     "iopub.execute_input": "2022-06-19T02:21:41.319130Z",
     "iopub.status.busy": "2022-06-19T02:21:41.317004Z",
     "iopub.status.idle": "2022-06-19T02:21:41.324925Z",
     "shell.execute_reply": "2022-06-19T02:21:41.323870Z",
     "shell.execute_reply.started": "2022-06-19T02:21:41.319089Z"
    }
   },
   "outputs": [],
   "source": [
    "trn_path = path/'train_images'"
   ]
  },
  {
   "cell_type": "code",
   "execution_count": 26,
   "id": "3f5d5c56",
   "metadata": {
    "execution": {
     "iopub.execute_input": "2022-06-19T02:53:20.072760Z",
     "iopub.status.busy": "2022-06-19T02:53:20.072254Z",
     "iopub.status.idle": "2022-06-19T03:26:22.197277Z",
     "shell.execute_reply": "2022-06-19T03:26:22.196324Z",
     "shell.execute_reply.started": "2022-06-19T02:53:20.072720Z"
    }
   },
   "outputs": [],
   "source": [
    "learn = train(arch, epochs=12,\n",
    "              item=Resize((480, 360), method=ResizeMethod.Pad, pad_mode=PadMode.Zeros),\n",
    "              batch=aug_transforms(size=(256,192), min_scale=0.75))"
   ]
  },
  {
   "cell_type": "markdown",
   "id": "6cb65647",
   "metadata": {},
   "source": [
    "This is around twice as accurate as our previous best model - let's see how it performs with TTA too:"
   ]
  },
  {
   "cell_type": "code",
   "execution_count": 34,
   "id": "c2e21a6f",
   "metadata": {
    "execution": {
     "iopub.execute_input": "2022-06-19T03:39:20.914430Z",
     "iopub.status.busy": "2022-06-19T03:39:20.913761Z",
     "iopub.status.idle": "2022-06-19T03:41:26.597123Z",
     "shell.execute_reply": "2022-06-19T03:41:26.596266Z",
     "shell.execute_reply.started": "2022-06-19T03:39:20.914376Z"
    }
   },
   "outputs": [],
   "source": [
    "tta_preds,targs = learn.tta(dl=learn.dls.valid)\n",
    "error_rate(tta_preds, targs)"
   ]
  },
  {
   "cell_type": "markdown",
   "id": "30de9eec",
   "metadata": {},
   "source": [
    "Once again, we get a big boost from TTA. This is one of the most under-appreciated deep learning tricks, in my opinion! (I'm not sure there's any other frameworks that make it quite so easy, so perhaps that's part of the reason why...)"
   ]
  },
  {
   "cell_type": "markdown",
   "id": "437e77bc",
   "metadata": {},
   "source": [
    "## Submission"
   ]
  },
  {
   "cell_type": "markdown",
   "id": "838bde08",
   "metadata": {},
   "source": [
    "We're now ready to get our Kaggle submission sorted. First, we'll grab the test set like we did in the last notebook:"
   ]
  },
  {
   "cell_type": "code",
   "execution_count": 27,
   "id": "1b28e5ab",
   "metadata": {
    "execution": {
     "iopub.execute_input": "2022-06-19T03:26:22.199974Z",
     "iopub.status.busy": "2022-06-19T03:26:22.199247Z",
     "iopub.status.idle": "2022-06-19T03:26:24.678935Z",
     "shell.execute_reply": "2022-06-19T03:26:24.678118Z",
     "shell.execute_reply.started": "2022-06-19T03:26:22.199931Z"
    }
   },
   "outputs": [],
   "source": [
    "tst_files = get_image_files(path/'test_images').sorted()\n",
    "tst_dl = learn.dls.test_dl(tst_files)"
   ]
  },
  {
   "cell_type": "markdown",
   "id": "83803c8b",
   "metadata": {},
   "source": [
    "Next, do TTA on that test set:"
   ]
  },
  {
   "cell_type": "code",
   "execution_count": 28,
   "id": "4d29d42e",
   "metadata": {
    "execution": {
     "iopub.execute_input": "2022-06-19T03:26:24.680547Z",
     "iopub.status.busy": "2022-06-19T03:26:24.680178Z",
     "iopub.status.idle": "2022-06-19T03:29:47.775672Z",
     "shell.execute_reply": "2022-06-19T03:29:47.774778Z",
     "shell.execute_reply.started": "2022-06-19T03:26:24.680511Z"
    },
    "scrolled": true
   },
   "outputs": [],
   "source": [
    "preds,_ = learn.tta(dl=tst_dl)"
   ]
  },
  {
   "cell_type": "markdown",
   "id": "2da6eb23",
   "metadata": {},
   "source": [
    "We need to indices of the largest probability prediction in each row, since that's the index of the predicted disease. `argmax` in PyTorch gives us exactly that:"
   ]
  },
  {
   "cell_type": "code",
   "execution_count": 29,
   "id": "2ec6f17d",
   "metadata": {
    "execution": {
     "iopub.execute_input": "2022-06-19T03:29:47.778482Z",
     "iopub.status.busy": "2022-06-19T03:29:47.778076Z",
     "iopub.status.idle": "2022-06-19T03:29:47.783560Z",
     "shell.execute_reply": "2022-06-19T03:29:47.782706Z",
     "shell.execute_reply.started": "2022-06-19T03:29:47.778440Z"
    }
   },
   "outputs": [],
   "source": [
    "idxs = preds.argmax(dim=1)"
   ]
  },
  {
   "cell_type": "markdown",
   "id": "70b87461",
   "metadata": {},
   "source": [
    "Now we need to look up those indices in the `vocab`. Last time we did that using pandas, although since then I realised there's an even easier way!:"
   ]
  },
  {
   "cell_type": "code",
   "execution_count": 30,
   "id": "f458777b",
   "metadata": {
    "execution": {
     "iopub.execute_input": "2022-06-19T03:29:47.785428Z",
     "iopub.status.busy": "2022-06-19T03:29:47.785027Z",
     "iopub.status.idle": "2022-06-19T03:29:47.805659Z",
     "shell.execute_reply": "2022-06-19T03:29:47.804914Z",
     "shell.execute_reply.started": "2022-06-19T03:29:47.785392Z"
    }
   },
   "outputs": [],
   "source": [
    "vocab = np.array(learn.dls.vocab)\n",
    "results = pd.Series(vocab[idxs], name=\"idxs\")"
   ]
  },
  {
   "cell_type": "code",
   "execution_count": 31,
   "id": "a1e306be",
   "metadata": {
    "execution": {
     "iopub.execute_input": "2022-06-19T03:29:47.807569Z",
     "iopub.status.busy": "2022-06-19T03:29:47.807148Z",
     "iopub.status.idle": "2022-06-19T03:29:48.621148Z",
     "shell.execute_reply": "2022-06-19T03:29:48.620068Z",
     "shell.execute_reply.started": "2022-06-19T03:29:47.807534Z"
    }
   },
   "outputs": [],
   "source": [
    "ss = pd.read_csv(path/'sample_submission.csv')\n",
    "ss['label'] = results\n",
    "ss.to_csv('subm.csv', index=False)\n",
    "!head subm.csv"
   ]
  },
  {
   "cell_type": "code",
   "execution_count": null,
   "id": "34de5bc9",
   "metadata": {
    "execution": {
     "iopub.status.busy": "2022-06-19T02:53:10.133786Z",
     "iopub.status.idle": "2022-06-19T02:53:10.134309Z",
     "shell.execute_reply": "2022-06-19T02:53:10.134088Z",
     "shell.execute_reply.started": "2022-06-19T02:53:10.134061Z"
    }
   },
   "outputs": [],
   "source": [
    "if not iskaggle:\n",
    "    from kaggle import api\n",
    "    api.competition_submit_cli('subm.csv', 'convnext small 256x192 12 epochs tta', comp)"
   ]
  },
  {
   "cell_type": "markdown",
   "id": "5fc537e8",
   "metadata": {},
   "source": [
    "This gets a score of 0.9827, which is well within the top 25% of the competition -- that's a big improvement, and we're still using a single small model!"
   ]
  },
  {
   "cell_type": "code",
   "execution_count": null,
   "id": "fcb49d9c",
   "metadata": {
    "_kg_hide-input": true,
    "_kg_hide-output": true,
    "execution": {
     "iopub.status.busy": "2022-06-19T02:53:10.137893Z",
     "iopub.status.idle": "2022-06-19T02:53:10.138347Z",
     "shell.execute_reply": "2022-06-19T02:53:10.138143Z",
     "shell.execute_reply.started": "2022-06-19T02:53:10.138120Z"
    }
   },
   "outputs": [],
   "source": [
    "# This is what I use to push my notebook from my home PC to Kaggle\n",
    "\n",
    "if not iskaggle:\n",
    "    push_notebook('jhoward', 'small-models-road-to-the-top-part-2',\n",
    "                  title='Small models: Road to the Top, Part 2',\n",
    "                  file='small-models-road-to-the-top-part-2.ipynb',\n",
    "                  competition=comp, private=True, gpu=True)"
   ]
  },
  {
   "cell_type": "markdown",
   "id": "e9ed54c9",
   "metadata": {},
   "source": [
    "## Conclusion"
   ]
  },
  {
   "cell_type": "markdown",
   "id": "e5a4838e",
   "metadata": {},
   "source": [
    "We've made a big step today, despite just using a single model that trains in under 20 minutes even on Kaggle's rather under-powered machines. Next time, we'll try scaling up to some bigger models and doing some ensembling.\n",
    "\n",
    "If you found this notebook useful, please remember to click the little up-arrow at the top to upvote it, since I like to know when people have found my work useful, and it helps others find it too. And if you have any questions or comments, please pop them below -- I read every comment I receive!"
   ]
  }
 ],
 "metadata": {
  "kernelspec": {
   "display_name": "Python 3 (ipykernel)",
   "language": "python",
   "name": "python3"
  },
  "language_info": {
   "codemirror_mode": {
    "name": "ipython",
    "version": 3
   },
   "file_extension": ".py",
   "mimetype": "text/x-python",
   "name": "python",
   "nbconvert_exporter": "python",
   "pygments_lexer": "ipython3",
   "version": "3.9.10"
  },
  "toc": {
   "base_numbering": 1,
   "nav_menu": {},
   "number_sections": false,
   "sideBar": true,
   "skip_h1_title": false,
   "title_cell": "Table of Contents",
   "title_sidebar": "Contents",
   "toc_cell": false,
   "toc_position": {},
   "toc_section_display": true,
   "toc_window_display": false
  }
 },
 "nbformat": 4,
 "nbformat_minor": 5
}
