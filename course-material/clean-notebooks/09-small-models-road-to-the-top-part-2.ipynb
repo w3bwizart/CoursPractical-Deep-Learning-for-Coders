{
 "cells": [
  {
   "cell_type": "code",
   "execution_count": null,
   "id": "75be51b1",
   "idx_": 0,
   "metadata": {},
   "outputs": [],
   "source": [
    "# install fastkaggle if not available\n",
    "try: import fastkaggle\n",
    "except ModuleNotFoundError:\n",
    "    !pip install -Uq fastkaggle\n",
    "\n",
    "from fastkaggle import *"
   ]
  },
  {
   "cell_type": "markdown",
   "id": "ad80d057",
   "idx_": 2,
   "metadata": {},
   "source": [
    "## Going faster"
   ]
  },
  {
   "cell_type": "code",
   "execution_count": null,
   "id": "5557a76e",
   "idx_": 4,
   "metadata": {},
   "outputs": [],
   "source": [
    "comp = 'paddy-disease-classification'\n",
    "path = setup_comp(comp, install='fastai \"timm>=0.6.2.dev0\"')\n",
    "from fastai.vision.all import *\n",
    "set_seed(42)"
   ]
  },
  {
   "cell_type": "code",
   "execution_count": null,
   "id": "d3d9cab9",
   "idx_": 6,
   "metadata": {},
   "outputs": [],
   "source": [
    "trn_path = Path('sml')"
   ]
  },
  {
   "cell_type": "code",
   "execution_count": null,
   "id": "fd776ce8",
   "idx_": 7,
   "metadata": {},
   "outputs": [],
   "source": [
    "resize_images(path/'train_images', dest=trn_path, max_size=256, recurse=True)"
   ]
  },
  {
   "cell_type": "code",
   "execution_count": null,
   "id": "e64f802b",
   "idx_": 9,
   "metadata": {},
   "outputs": [],
   "source": [
    "dls = ImageDataLoaders.from_folder(trn_path, valid_pct=0.2, seed=42,\n",
    "    item_tfms=Resize((256,192)))\n",
    "\n",
    "dls.show_batch(max_n=3)"
   ]
  },
  {
   "cell_type": "code",
   "execution_count": null,
   "id": "1b4e9915",
   "idx_": 11,
   "metadata": {},
   "outputs": [],
   "source": [
    "def train(arch, item, batch, epochs=5):\n",
    "    dls = ImageDataLoaders.from_folder(trn_path, seed=42, valid_pct=0.2, item_tfms=item, batch_tfms=batch)\n",
    "    learn = vision_learner(dls, arch, metrics=error_rate).to_fp16()\n",
    "    learn.fine_tune(epochs, 0.01)\n",
    "    return learn"
   ]
  },
  {
   "cell_type": "code",
   "execution_count": null,
   "id": "8a628c8e",
   "idx_": 13,
   "metadata": {},
   "outputs": [],
   "source": [
    "learn = train('resnet26d', item=Resize(192),\n",
    "              batch=aug_transforms(size=128, min_scale=0.75))"
   ]
  },
  {
   "cell_type": "markdown",
   "id": "538ba512",
   "idx_": 15,
   "metadata": {},
   "source": [
    "## A ConvNeXt model"
   ]
  },
  {
   "cell_type": "code",
   "execution_count": null,
   "id": "a9978175",
   "idx_": 17,
   "metadata": {},
   "outputs": [],
   "source": [
    "arch = 'convnext_small_in22k'"
   ]
  },
  {
   "cell_type": "code",
   "execution_count": null,
   "id": "3caa4f06",
   "idx_": 18,
   "metadata": {},
   "outputs": [],
   "source": [
    "learn = train(arch, item=Resize(192, method='squish'),\n",
    "              batch=aug_transforms(size=128, min_scale=0.75))"
   ]
  },
  {
   "cell_type": "markdown",
   "id": "d640fecf",
   "idx_": 20,
   "metadata": {},
   "source": [
    "## Preprocessing experiments"
   ]
  },
  {
   "cell_type": "code",
   "execution_count": null,
   "id": "7c9d172c",
   "idx_": 22,
   "metadata": {},
   "outputs": [],
   "source": [
    "learn = train(arch, item=Resize(192),\n",
    "              batch=aug_transforms(size=128, min_scale=0.75))"
   ]
  },
  {
   "cell_type": "code",
   "execution_count": null,
   "id": "9478a751",
   "idx_": 24,
   "metadata": {},
   "outputs": [],
   "source": [
    "dls = ImageDataLoaders.from_folder(trn_path, valid_pct=0.2, seed=42,\n",
    "    item_tfms=Resize(192, method=ResizeMethod.Pad, pad_mode=PadMode.Zeros))\n",
    "dls.show_batch(max_n=3)"
   ]
  },
  {
   "cell_type": "code",
   "execution_count": null,
   "id": "11388ce4",
   "idx_": 25,
   "metadata": {},
   "outputs": [],
   "source": [
    "learn = train(arch, item=Resize((256,192), method=ResizeMethod.Pad, pad_mode=PadMode.Zeros),\n",
    "      batch=aug_transforms(size=(171,128), min_scale=0.75))"
   ]
  },
  {
   "cell_type": "markdown",
   "id": "8f68f0a3",
   "idx_": 27,
   "metadata": {},
   "source": [
    "## Test time augmentation"
   ]
  },
  {
   "cell_type": "code",
   "execution_count": null,
   "id": "f6e9c5cb",
   "idx_": 29,
   "metadata": {},
   "outputs": [],
   "source": [
    "valid = learn.dls.valid\n",
    "preds,targs = learn.get_preds(dl=valid)"
   ]
  },
  {
   "cell_type": "code",
   "execution_count": null,
   "id": "e7cf8953",
   "idx_": 30,
   "metadata": {},
   "outputs": [],
   "source": [
    "error_rate(preds, targs)"
   ]
  },
  {
   "cell_type": "code",
   "execution_count": null,
   "id": "83edb04c",
   "idx_": 32,
   "metadata": {},
   "outputs": [],
   "source": [
    "learn.dls.train.show_batch(max_n=6, unique=True)"
   ]
  },
  {
   "cell_type": "code",
   "execution_count": null,
   "id": "2a0ffc75",
   "idx_": 34,
   "metadata": {},
   "outputs": [],
   "source": [
    "tta_preds,_ = learn.tta(dl=valid)"
   ]
  },
  {
   "cell_type": "code",
   "execution_count": null,
   "id": "1cf6a100",
   "idx_": 36,
   "metadata": {},
   "outputs": [],
   "source": [
    "error_rate(tta_preds, targs)"
   ]
  },
  {
   "cell_type": "markdown",
   "id": "5d549e92",
   "idx_": 38,
   "metadata": {},
   "source": [
    "## Scaling up"
   ]
  },
  {
   "cell_type": "code",
   "execution_count": null,
   "id": "060538b8",
   "idx_": 40,
   "metadata": {},
   "outputs": [],
   "source": [
    "trn_path = path/'train_images'"
   ]
  },
  {
   "cell_type": "code",
   "execution_count": null,
   "id": "3f5d5c56",
   "idx_": 41,
   "metadata": {},
   "outputs": [],
   "source": [
    "learn = train(arch, epochs=12,\n",
    "              item=Resize((480, 360), method=ResizeMethod.Pad, pad_mode=PadMode.Zeros),\n",
    "              batch=aug_transforms(size=(256,192), min_scale=0.75))"
   ]
  },
  {
   "cell_type": "code",
   "execution_count": null,
   "id": "c2e21a6f",
   "idx_": 43,
   "metadata": {},
   "outputs": [],
   "source": [
    "tta_preds,targs = learn.tta(dl=learn.dls.valid)\n",
    "error_rate(tta_preds, targs)"
   ]
  },
  {
   "cell_type": "markdown",
   "id": "437e77bc",
   "idx_": 45,
   "metadata": {},
   "source": [
    "## Submission"
   ]
  },
  {
   "cell_type": "code",
   "execution_count": null,
   "id": "1b28e5ab",
   "idx_": 47,
   "metadata": {},
   "outputs": [],
   "source": [
    "tst_files = get_image_files(path/'test_images').sorted()\n",
    "tst_dl = learn.dls.test_dl(tst_files)"
   ]
  },
  {
   "cell_type": "code",
   "execution_count": null,
   "id": "4d29d42e",
   "idx_": 49,
   "metadata": {},
   "outputs": [],
   "source": [
    "preds,_ = learn.tta(dl=tst_dl)"
   ]
  },
  {
   "cell_type": "code",
   "execution_count": null,
   "id": "2ec6f17d",
   "idx_": 51,
   "metadata": {},
   "outputs": [],
   "source": [
    "idxs = preds.argmax(dim=1)"
   ]
  },
  {
   "cell_type": "code",
   "execution_count": null,
   "id": "f458777b",
   "idx_": 53,
   "metadata": {},
   "outputs": [],
   "source": [
    "vocab = np.array(learn.dls.vocab)\n",
    "results = pd.Series(vocab[idxs], name=\"idxs\")"
   ]
  },
  {
   "cell_type": "code",
   "execution_count": null,
   "id": "a1e306be",
   "idx_": 54,
   "metadata": {},
   "outputs": [],
   "source": [
    "ss = pd.read_csv(path/'sample_submission.csv')\n",
    "ss['label'] = results\n",
    "ss.to_csv('subm.csv', index=False)\n",
    "!head subm.csv"
   ]
  },
  {
   "cell_type": "code",
   "execution_count": null,
   "id": "34de5bc9",
   "idx_": 55,
   "metadata": {},
   "outputs": [],
   "source": [
    "if not iskaggle:\n",
    "    from kaggle import api\n",
    "    api.competition_submit_cli('subm.csv', 'convnext small 256x192 12 epochs tta', comp)"
   ]
  },
  {
   "cell_type": "code",
   "execution_count": null,
   "id": "fcb49d9c",
   "idx_": 57,
   "metadata": {},
   "outputs": [],
   "source": [
    "# This is what I use to push my notebook from my home PC to Kaggle\n",
    "\n",
    "if not iskaggle:\n",
    "    push_notebook('jhoward', 'small-models-road-to-the-top-part-2',\n",
    "                  title='Small models: Road to the Top, Part 2',\n",
    "                  file='small-models-road-to-the-top-part-2.ipynb',\n",
    "                  competition=comp, private=True, gpu=True)"
   ]
  },
  {
   "cell_type": "markdown",
   "id": "e9ed54c9",
   "idx_": 58,
   "metadata": {},
   "source": [
    "## Conclusion"
   ]
  }
 ],
 "metadata": {
  "kernelspec": {
   "display_name": "python3",
   "language": "python",
   "name": "python3"
  }
 },
 "nbformat": 4,
 "nbformat_minor": 5,
 "path_": "09-small-models-road-to-the-top-part-2.ipynb"
}
