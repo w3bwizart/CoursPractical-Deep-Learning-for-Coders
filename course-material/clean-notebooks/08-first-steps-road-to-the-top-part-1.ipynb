{
 "cells": [
  {
   "cell_type": "code",
   "execution_count": null,
   "id": "732f09f4",
   "idx_": 0,
   "metadata": {},
   "outputs": [],
   "source": [
    "# install fastkaggle if not available\n",
    "try: import fastkaggle\n",
    "except ModuleNotFoundError:\n",
    "    !pip install -Uq fastkaggle\n",
    "\n",
    "from fastkaggle import *"
   ]
  },
  {
   "cell_type": "markdown",
   "id": "f0f21256",
   "idx_": 3,
   "metadata": {},
   "source": [
    "## Getting set up"
   ]
  },
  {
   "cell_type": "code",
   "execution_count": null,
   "id": "70f2d75c",
   "idx_": 5,
   "metadata": {},
   "outputs": [],
   "source": [
    "comp = 'paddy-disease-classification'\n",
    "\n",
    "path = setup_comp(comp, install='fastai \"timm>=0.6.2.dev0\"')"
   ]
  },
  {
   "cell_type": "code",
   "execution_count": null,
   "id": "879f9000",
   "idx_": 6,
   "metadata": {},
   "outputs": [],
   "source": [
    "path"
   ]
  },
  {
   "cell_type": "code",
   "execution_count": null,
   "id": "1c8e2512",
   "idx_": 8,
   "metadata": {},
   "outputs": [],
   "source": [
    "from fastai.vision.all import *\n",
    "set_seed(42)\n",
    "\n",
    "path.ls()"
   ]
  },
  {
   "cell_type": "markdown",
   "id": "1b0c8526",
   "idx_": 9,
   "metadata": {},
   "source": [
    "## Looking at the data"
   ]
  },
  {
   "cell_type": "code",
   "execution_count": null,
   "id": "7dc65858",
   "idx_": 11,
   "metadata": {},
   "outputs": [],
   "source": [
    "trn_path = path/'train_images'\n",
    "files = get_image_files(trn_path)"
   ]
  },
  {
   "cell_type": "code",
   "execution_count": null,
   "id": "aa37d1e7",
   "idx_": 13,
   "metadata": {},
   "outputs": [],
   "source": [
    "img = PILImage.create(files[0])\n",
    "print(img.size)\n",
    "img.to_thumb(128)"
   ]
  },
  {
   "cell_type": "code",
   "execution_count": null,
   "id": "bc65a07f",
   "idx_": 15,
   "metadata": {},
   "outputs": [],
   "source": [
    "from fastcore.parallel import *\n",
    "\n",
    "def f(o): return PILImage.create(o).size\n",
    "sizes = parallel(f, files, n_workers=8)\n",
    "pd.Series(sizes).value_counts()"
   ]
  },
  {
   "cell_type": "code",
   "execution_count": null,
   "id": "28089cd4",
   "idx_": 17,
   "metadata": {},
   "outputs": [],
   "source": [
    "dls = ImageDataLoaders.from_folder(trn_path, valid_pct=0.2, seed=42,\n",
    "    item_tfms=Resize(480, method='squish'),\n",
    "    batch_tfms=aug_transforms(size=128, min_scale=0.75))\n",
    "\n",
    "dls.show_batch(max_n=6)"
   ]
  },
  {
   "cell_type": "markdown",
   "id": "1edb043d",
   "idx_": 18,
   "metadata": {},
   "source": [
    "## Our first model"
   ]
  },
  {
   "cell_type": "code",
   "execution_count": null,
   "id": "61cce208",
   "idx_": 20,
   "metadata": {},
   "outputs": [],
   "source": [
    "learn = vision_learner(dls, 'resnet26d', metrics=error_rate, path='.').to_fp16()"
   ]
  },
  {
   "cell_type": "code",
   "execution_count": null,
   "id": "9b7ca2ac",
   "idx_": 22,
   "metadata": {},
   "outputs": [],
   "source": [
    "learn.lr_find(suggest_funcs=(valley, slide))"
   ]
  },
  {
   "cell_type": "code",
   "execution_count": null,
   "id": "8b765c1f",
   "idx_": 24,
   "metadata": {},
   "outputs": [],
   "source": [
    "learn.fine_tune(3, 0.01)"
   ]
  },
  {
   "cell_type": "markdown",
   "id": "2ab26601",
   "idx_": 26,
   "metadata": {},
   "source": [
    "## Submitting to Kaggle"
   ]
  },
  {
   "cell_type": "code",
   "execution_count": null,
   "id": "55cd25e5",
   "idx_": 27,
   "metadata": {},
   "outputs": [],
   "source": [
    "ss = pd.read_csv(path/'sample_submission.csv')\n",
    "ss"
   ]
  },
  {
   "cell_type": "code",
   "execution_count": null,
   "id": "b3c88925",
   "idx_": 29,
   "metadata": {},
   "outputs": [],
   "source": [
    "tst_files = get_image_files(path/'test_images').sorted()\n",
    "tst_dl = dls.test_dl(tst_files)"
   ]
  },
  {
   "cell_type": "code",
   "execution_count": null,
   "id": "04aa5ace",
   "idx_": 31,
   "metadata": {},
   "outputs": [],
   "source": [
    "probs,_,idxs = learn.get_preds(dl=tst_dl, with_decoded=True)\n",
    "idxs"
   ]
  },
  {
   "cell_type": "code",
   "execution_count": null,
   "id": "a6c4b31d",
   "idx_": 33,
   "metadata": {},
   "outputs": [],
   "source": [
    "dls.vocab"
   ]
  },
  {
   "cell_type": "code",
   "execution_count": null,
   "id": "dc5935d2",
   "idx_": 35,
   "metadata": {},
   "outputs": [],
   "source": [
    "mapping = dict(enumerate(dls.vocab))\n",
    "results = pd.Series(idxs.numpy(), name=\"idxs\").map(mapping)\n",
    "results"
   ]
  },
  {
   "cell_type": "code",
   "execution_count": null,
   "id": "e3f2ec9e",
   "idx_": 37,
   "metadata": {},
   "outputs": [],
   "source": [
    "ss['label'] = results\n",
    "ss.to_csv('subm.csv', index=False)\n",
    "!head subm.csv"
   ]
  },
  {
   "cell_type": "code",
   "execution_count": null,
   "id": "ed52342c",
   "idx_": 39,
   "metadata": {},
   "outputs": [],
   "source": [
    "if not iskaggle:\n",
    "    from kaggle import api\n",
    "    api.competition_submit_cli('subm.csv', 'initial rn26d 128px', comp)"
   ]
  },
  {
   "cell_type": "markdown",
   "id": "e04efcc0",
   "idx_": 41,
   "metadata": {},
   "source": [
    "## Conclusion"
   ]
  },
  {
   "cell_type": "markdown",
   "id": "a972c10e",
   "idx_": 43,
   "metadata": {},
   "source": [
    "## Addendum"
   ]
  },
  {
   "cell_type": "code",
   "execution_count": null,
   "id": "bd2148d7",
   "idx_": 45,
   "metadata": {},
   "outputs": [],
   "source": [
    "if not iskaggle:\n",
    "    push_notebook('jhoward', 'first-steps-road-to-the-top-part-1',\n",
    "                  title='First Steps: Road to the Top, Part 1',\n",
    "                  file='first-steps-road-to-the-top-part-1.ipynb',\n",
    "                  competition=comp, private=False, gpu=True)"
   ]
  },
  {
   "cell_type": "code",
   "execution_count": null,
   "id": "3ca975e7",
   "idx_": 46,
   "metadata": {},
   "outputs": [],
   "source": []
  }
 ],
 "metadata": {
  "kernelspec": {
   "display_name": "python3",
   "language": "python",
   "name": "python3"
  }
 },
 "nbformat": 4,
 "nbformat_minor": 5,
 "path_": "08-first-steps-road-to-the-top-part-1.ipynb"
}
