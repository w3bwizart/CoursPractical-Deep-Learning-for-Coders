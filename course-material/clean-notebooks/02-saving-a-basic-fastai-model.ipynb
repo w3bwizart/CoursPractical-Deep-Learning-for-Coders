{
 "cells": [
  {
   "cell_type": "markdown",
   "idx_": 0,
   "metadata": {},
   "source": [
    "## Saving a Cats v Dogs Model"
   ]
  },
  {
   "cell_type": "code",
   "execution_count": null,
   "idx_": 2,
   "metadata": {},
   "outputs": [],
   "source": [
    "# Make sure we've got the latest version of fastai:\n",
    "!pip install -Uqq fastai"
   ]
  },
  {
   "cell_type": "code",
   "execution_count": null,
   "idx_": 4,
   "metadata": {},
   "outputs": [],
   "source": [
    "from fastai.vision.all import *"
   ]
  },
  {
   "cell_type": "code",
   "execution_count": null,
   "idx_": 6,
   "metadata": {},
   "outputs": [],
   "source": [
    "path = untar_data(URLs.PETS)/'images'"
   ]
  },
  {
   "cell_type": "code",
   "execution_count": null,
   "idx_": 8,
   "metadata": {},
   "outputs": [],
   "source": [
    "def is_cat(x): return x[0].isupper() "
   ]
  },
  {
   "cell_type": "code",
   "execution_count": null,
   "idx_": 10,
   "metadata": {},
   "outputs": [],
   "source": [
    "dls = ImageDataLoaders.from_name_func('.',\n",
    "    get_image_files(path), valid_pct=0.2, seed=42,\n",
    "    label_func=is_cat,\n",
    "    item_tfms=Resize(192))"
   ]
  },
  {
   "cell_type": "code",
   "execution_count": null,
   "idx_": 12,
   "metadata": {},
   "outputs": [],
   "source": [
    "learn = vision_learner(dls, resnet18, metrics=error_rate)\n",
    "learn.fine_tune(3)"
   ]
  },
  {
   "cell_type": "code",
   "execution_count": null,
   "idx_": 14,
   "metadata": {},
   "outputs": [],
   "source": [
    "learn.export('model.pkl')"
   ]
  }
 ],
 "metadata": {
  "kernelspec": {
   "display_name": "python3",
   "language": "python",
   "name": "python3"
  }
 },
 "nbformat": 4,
 "nbformat_minor": 4,
 "path_": "02-saving-a-basic-fastai-model.ipynb"
}
